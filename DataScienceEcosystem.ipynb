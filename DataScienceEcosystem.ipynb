{
 "cells": [
  {
   "cell_type": "markdown",
   "id": "a8a2a495-a8ca-4992-beb0-d4a123551f8d",
   "metadata": {},
   "source": [
    "# Data Science Tools and Ecosystem"
   ]
  },
  {
   "cell_type": "markdown",
   "id": "b370b434-f8f0-49dc-b470-8723189513dd",
   "metadata": {},
   "source": [
    "#### In this notebook, Data Science Tools and Ecosystem are summarized."
   ]
  },
  {
   "cell_type": "markdown",
   "id": "109559f8-adc9-4219-8e34-6ab534c5d9e8",
   "metadata": {},
   "source": [
    "**Objectives:**\n",
    "* Create a Jupyter Notebook\n",
    "* Create markdown cell with title of the notebook\n",
    "* Create a single column table in this cell with the first row containing the header Data Science Tools\n",
    "*  Create a code cell to multiply and add numbers\n",
    "* Create a code cell to convert minutes to hours"
   ]
  },
  {
   "cell_type": "markdown",
   "id": "2f098409-a950-4e49-862e-c89e5a0712c5",
   "metadata": {},
   "source": [
    "##### Some of the popular languages that Data Scientists use are:\n",
    "1. Python\n",
    "2. R\n",
    "3. SQL\n",
    "4. Scala\n",
    "5. Java\n",
    "6. C++"
   ]
  },
  {
   "cell_type": "markdown",
   "id": "087ecdaf-11b3-427e-ae28-1c5bcbe02f85",
   "metadata": {},
   "source": [
    "##### Some of the commonly used libraries used by Data Scientists include:\n",
    "1. Numpy\n",
    "2. Pandas\n",
    "3. Matplotlib\n",
    "4. Scikit-learn\n",
    "5. Tensorflow"
   ]
  },
  {
   "cell_type": "markdown",
   "id": "2040c2c0-6f59-48f7-84d3-34b0be7e7274",
   "metadata": {},
   "source": [
    "##### Open Source Tools for development Environment:\n",
    "\n",
    "|Data Science Tools|\n",
    "|------------------|\n",
    "|Jupyter (Notebook ou Lab)|\n",
    "|Apache Zeppelin-\n",
    "|Rstudio|\n",
    "|Spyder|"
   ]
  },
  {
   "cell_type": "markdown",
   "id": "2f5a2a04-953c-44c2-8f41-56a374b9563c",
   "metadata": {},
   "source": [
    "### Below are a few examples of evaluating arithmetic expressions in Python."
   ]
  },
  {
   "cell_type": "code",
   "execution_count": 1,
   "id": "8b949417-50c3-4a95-b27f-9f32b3bb56a3",
   "metadata": {
    "tags": []
   },
   "outputs": [
    {
     "data": {
      "text/plain": [
       "17"
      ]
     },
     "execution_count": 1,
     "metadata": {},
     "output_type": "execute_result"
    }
   ],
   "source": [
    "# This a simple arithmetic expression to mutiply then add integers.\n",
    "(3*4)+5"
   ]
  },
  {
   "cell_type": "code",
   "execution_count": 3,
   "id": "d91964cd-125a-458e-a0e0-162cb39e3422",
   "metadata": {
    "tags": []
   },
   "outputs": [
    {
     "name": "stdout",
     "output_type": "stream",
     "text": [
      "3.3333333333333335\n"
     ]
    }
   ],
   "source": [
    "# This will convert 200 minutes to hours by diving by 60\n",
    "A = 200\n",
    "B = 60\n",
    "C = A/B\n",
    "print(C)"
   ]
  },
  {
   "cell_type": "markdown",
   "id": "bfd49696-03ee-4547-942f-b5738c2edf46",
   "metadata": {},
   "source": [
    "## Authors\n",
    "Valérie"
   ]
  },
  {
   "cell_type": "code",
   "execution_count": null,
   "id": "70059158-388d-4772-8b00-cd2f96511f03",
   "metadata": {},
   "outputs": [],
   "source": []
  }
 ],
 "metadata": {
  "kernelspec": {
   "display_name": "Python",
   "language": "python",
   "name": "conda-env-python-py"
  },
  "language_info": {
   "codemirror_mode": {
    "name": "ipython",
    "version": 3
   },
   "file_extension": ".py",
   "mimetype": "text/x-python",
   "name": "python",
   "nbconvert_exporter": "python",
   "pygments_lexer": "ipython3",
   "version": "3.7.12"
  }
 },
 "nbformat": 4,
 "nbformat_minor": 5
}
